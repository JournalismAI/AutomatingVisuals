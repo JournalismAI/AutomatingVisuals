{
 "cells": [
  {
   "cell_type": "code",
   "execution_count": null,
   "id": "02e294a0",
   "metadata": {},
   "outputs": [],
   "source": [
    "## Want to try a bulk download example?\n",
    "import requests\n",
    "from tqdm import tqdm\n",
    "import datetime\n",
    "\n",
    "import csv\n",
    "import os\n",
    "from multiprocessing import Lock\n",
    "from concurrent.futures import ThreadPoolExecutor\n",
    "from timeit import default_timer as timer\n",
    "from copy import deepcopy\n",
    "from time import sleep"
   ]
  },
  {
   "cell_type": "code",
   "execution_count": null,
   "id": "e7e9c710",
   "metadata": {},
   "outputs": [],
   "source": [
    "payloadtemplate = {\n",
    "    \"maintext1\": \"Placeholder\",\n",
    "    \"shape1\": \"facebook\",\n",
    "    \"textcolor1\": \"black\",\n",
    "    \"transparency1\": \"medium\",\n",
    "    \"stockart1\": \"real-estate-ranch.jpg\"\n",
    "}\n"
   ]
  },
  {
   "cell_type": "code",
   "execution_count": null,
   "id": "47b71d89",
   "metadata": {},
   "outputs": [],
   "source": [
    "baseurl = \"http://localhost:5000/generate/\"\n",
    "\n",
    "downloaddir = \"downloads/\"\n",
    "os.makedirs(downloaddir, exist_ok=True)\n",
    "\n",
    "wordfile = \"payload-test-bulk-parallel-words.txt\""
   ]
  },
  {
   "cell_type": "raw",
   "id": "7561cb4a",
   "metadata": {},
   "source": [
    "# It takes a while to generate the sample texts. For the demonstration, these were prepped in advance and this thing is disabled.\n",
    "# This is set to build a CSV with two fields: \"filename\" and \"words\".\n",
    "\n",
    "from nltk.corpus import words\n",
    "import random\n",
    "import csv\n",
    "\n",
    "print(f\"Generating sample texts. This will take a while.\")\n",
    "targetentries = []\n",
    "for i in tqdm(range(0, 1000)):\n",
    "    wordswanted = random.randrange(3, 30)\n",
    "    rand_words = ' '.join(random.sample(words.words(), wordswanted))\n",
    "    filename = downloaddir + '{:04}'.format(len(targetentries)) + rand_words.split()[0] + \".jpg\"\n",
    "    entry = {}\n",
    "    entry['filename'] = filename\n",
    "    entry['words'] = rand_words    \n",
    "    targetentries.append(entry)\n",
    "with open(wordfile, \"w\", newline=\"\") as outfile:\n",
    "    writer = csv.writer(outfile)\n",
    "    writer.writerow(list(targetentries[0].keys()))\n",
    "    for entry in targetentries:\n",
    "        writer.writerow(list(entry.values()))"
   ]
  },
  {
   "cell_type": "code",
   "execution_count": null,
   "id": "f888eef1",
   "metadata": {},
   "outputs": [],
   "source": [
    "# Retrieve prepared CSV file with \"filename\" and \"words\" fields\n",
    "with open(wordfile, \"r\") as infile:\n",
    "    targetentries = list(csv.DictReader(infile))"
   ]
  },
  {
   "cell_type": "code",
   "execution_count": null,
   "id": "47e2dced",
   "metadata": {},
   "outputs": [],
   "source": [
    "def send_text(mytext, myfilename):\n",
    "    mypayload = deepcopy(payloadtemplate)\n",
    "    mypayload['maintext1'] = mytext\n",
    "    sleep(random.random()/50)   # Sleep a tiny bit of a second, to try to stagger our requests just a hair\n",
    "    r = requests.get(baseurl, data=mypayload, timeout=15)\n",
    "    while r.status_code != 200:\n",
    "        sleep(random.random()/10)  # Sleep a fraction of a second\n",
    "        r = requests.get(baseurl, data=mypayload, timeout=15)\n",
    "    # filename = downloaddir + r.headers['Content-Disposition'].split(\"filename=\")[-1]\n",
    "    filename = myfilename\n",
    "    if os.path.exists(filename):      # Do not clobber an existing file, for all sorts of reasons\n",
    "        print(f\"Will NOT overwrite {filename}\")\n",
    "    else:\n",
    "        with open(filename, \"wb\") as outfile:\n",
    "            outfile.write(r.content)\n",
    "    return()"
   ]
  },
  {
   "cell_type": "code",
   "execution_count": null,
   "id": "a4394fac",
   "metadata": {},
   "outputs": [],
   "source": [
    "print(f\"Trying to publish {len(targetentries):,} items\")\n",
    "\n",
    "starttime = timer()\n",
    "\n",
    "with ThreadPoolExecutor(max_workers=12) as executor:\n",
    "    for targetentry in targetentries:        \n",
    "        result = executor.submit(send_text, targetentry['words'], targetentry['filename'])\n",
    "        \n",
    "endtime = timer()\n",
    "print(f\"Time to publish {len(targetentries):,} items: {(endtime-starttime):,} seconds\")"
   ]
  },
  {
   "cell_type": "code",
   "execution_count": null,
   "id": "23521fe7",
   "metadata": {},
   "outputs": [],
   "source": []
  },
  {
   "cell_type": "code",
   "execution_count": null,
   "id": "6a200925",
   "metadata": {},
   "outputs": [],
   "source": []
  }
 ],
 "metadata": {
  "kernelspec": {
   "display_name": "Python 3",
   "language": "python",
   "name": "python3"
  },
  "language_info": {
   "codemirror_mode": {
    "name": "ipython",
    "version": 3
   },
   "file_extension": ".py",
   "mimetype": "text/x-python",
   "name": "python",
   "nbconvert_exporter": "python",
   "pygments_lexer": "ipython3",
   "version": "3.7.2"
  }
 },
 "nbformat": 4,
 "nbformat_minor": 5
}
