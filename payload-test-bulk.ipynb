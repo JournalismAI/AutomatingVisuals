{
 "cells": [
  {
   "cell_type": "code",
   "execution_count": null,
   "id": "02e294a0",
   "metadata": {},
   "outputs": [],
   "source": [
    "## Want to try a bulk download example?\n",
    "\n",
    "## This is just to get random words generated. \n",
    "from nltk.corpus import words\n",
    "import random\n",
    "\n",
    "\n",
    "\n",
    "import requests\n",
    "from tqdm import tqdm\n",
    "import datetime\n",
    "\n",
    "import os\n",
    "\n",
    "payload = {\n",
    "    \"maintext1\": \"This is a test. Let's see Tyler's dog! Indianapolis-area homes for sale drop to $259,450 median price\",\n",
    "    \"shape1\": \"facebook\",\n",
    "    \"textcolor1\": \"black\",\n",
    "    \"transparency1\": \"medium\"    \n",
    "}\n",
    "\n",
    "# It takes a while to generate the sample texts. This is where you want to bring in your texts.\n",
    "sampletexts = []\n",
    "for i in range(0, 100):\n",
    "    wordswanted = random.randrange(3, 30)\n",
    "    rand_words = ' '.join(random.sample(words.words(), wordswanted))\n",
    "    sampletexts.append(rand_words)\n",
    "\n",
    "    \n",
    "# Normal program stuff starts here    \n",
    "baseurl = \"http://localhost:5000/generate/\"\n",
    "\n",
    "downloaddir = \"downloads/\"\n",
    "os.makedirs(downloaddir, exist_ok=True)\n",
    "\n",
    "textlog = {}\n",
    "for sampletext in tqdm(sampletexts):\n",
    "    payload['maintext1'] = sampletext\n",
    "    r = requests.get(baseurl, data=payload)\n",
    "    filename = downloaddir + r.headers['Content-Disposition'].split(\"filename=\")[-1]\n",
    "    if os.path.exists(filename):      # Do not clobber an existing file, for all sorts of reasons\n",
    "        print(f\"Will NOT overwrite {filename}\")\n",
    "    else:\n",
    "        with open(filename, \"wb\") as outfile:\n",
    "            outfile.write(r.content)\n",
    "    #     print(f\"Saved file as {filename}\")\n",
    "        textlog[filename] = payload"
   ]
  }
 ],
 "metadata": {
  "kernelspec": {
   "display_name": "Python 3",
   "language": "python",
   "name": "python3"
  },
  "language_info": {
   "codemirror_mode": {
    "name": "ipython",
    "version": 3
   },
   "file_extension": ".py",
   "mimetype": "text/x-python",
   "name": "python",
   "nbconvert_exporter": "python",
   "pygments_lexer": "ipython3",
   "version": "3.7.2"
  }
 },
 "nbformat": 4,
 "nbformat_minor": 5
}
