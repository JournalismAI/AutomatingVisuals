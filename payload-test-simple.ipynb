{
 "cells": [
  {
   "cell_type": "code",
   "execution_count": 1,
   "id": "5c2315f6",
   "metadata": {},
   "outputs": [],
   "source": [
    "import requests"
   ]
  },
  {
   "cell_type": "code",
   "execution_count": 2,
   "id": "514ea5e0",
   "metadata": {},
   "outputs": [],
   "source": [
    "payload = {\"maintext1\": \"This has no defaults at all, other than a general desire to hang with Tyler's dog.\"\n",
    "          }"
   ]
  },
  {
   "cell_type": "code",
   "execution_count": 3,
   "id": "538e929f",
   "metadata": {},
   "outputs": [],
   "source": [
    "r = requests.post(\"http://localhost:5000/generate/\", data=payload)"
   ]
  },
  {
   "cell_type": "code",
   "execution_count": 4,
   "id": "2b4ab573",
   "metadata": {},
   "outputs": [],
   "source": [
    "with open(\"demo.jpg\", \"wb\") as outfile:\n",
    "    outfile.write(r.content)"
   ]
  },
  {
   "cell_type": "code",
   "execution_count": null,
   "id": "d3b157c0",
   "metadata": {},
   "outputs": [],
   "source": []
  }
 ],
 "metadata": {
  "kernelspec": {
   "display_name": "Python 3",
   "language": "python",
   "name": "python3"
  },
  "language_info": {
   "codemirror_mode": {
    "name": "ipython",
    "version": 3
   },
   "file_extension": ".py",
   "mimetype": "text/x-python",
   "name": "python",
   "nbconvert_exporter": "python",
   "pygments_lexer": "ipython3",
   "version": "3.7.2"
  }
 },
 "nbformat": 4,
 "nbformat_minor": 5
}
