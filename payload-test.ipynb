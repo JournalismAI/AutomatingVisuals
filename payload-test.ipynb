{
 "cells": [
  {
   "cell_type": "code",
   "execution_count": 2,
   "id": "63887717",
   "metadata": {},
   "outputs": [],
   "source": [
    "import requests"
   ]
  },
  {
   "cell_type": "code",
   "execution_count": 4,
   "id": "abf285c5",
   "metadata": {},
   "outputs": [],
   "source": [
    "baseurl = \"http://localhost:5000/generate/\""
   ]
  },
  {
   "cell_type": "code",
   "execution_count": 7,
   "id": "4063a3ee",
   "metadata": {},
   "outputs": [],
   "source": [
    "payload = {\n",
    "    \"maintext1\": \"Indianapolis-area homes for sale drop to $259,450 median price\",\n",
    "    \"shape1\": \"facebook\",\n",
    "    \"textcolor1\": \"black\",\n",
    "    \"transparency1\": \"medium\"    \n",
    "}"
   ]
  },
  {
   "cell_type": "code",
   "execution_count": 9,
   "id": "2ffd194d",
   "metadata": {},
   "outputs": [],
   "source": [
    "r = requests.post(baseurl, data=payload)"
   ]
  },
  {
   "cell_type": "code",
   "execution_count": null,
   "id": "d7558e4c",
   "metadata": {},
   "outputs": [],
   "source": []
  }
 ],
 "metadata": {
  "kernelspec": {
   "display_name": "Python 3",
   "language": "python",
   "name": "python3"
  },
  "language_info": {
   "codemirror_mode": {
    "name": "ipython",
    "version": 3
   },
   "file_extension": ".py",
   "mimetype": "text/x-python",
   "name": "python",
   "nbconvert_exporter": "python",
   "pygments_lexer": "ipython3",
   "version": "3.7.2"
  }
 },
 "nbformat": 4,
 "nbformat_minor": 5
}
