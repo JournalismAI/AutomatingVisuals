{
 "cells": [
  {
   "cell_type": "code",
   "execution_count": null,
   "id": "59a3288b",
   "metadata": {},
   "outputs": [],
   "source": [
    "import requests\n",
    "\n",
    "import os"
   ]
  },
  {
   "cell_type": "code",
   "execution_count": null,
   "id": "2d318a23",
   "metadata": {},
   "outputs": [],
   "source": [
    "payload = {\n",
    "    \"maintext1\": \"This is a test. Let's see Tyler's dog! Indianapolis-area homes for sale drop to $259,450 median price\",\n",
    "    \"shape1\": \"facebook\",\n",
    "    \"textcolor1\": \"black\",\n",
    "    \"transparency1\": \"medium\"    \n",
    "}"
   ]
  },
  {
   "cell_type": "code",
   "execution_count": null,
   "id": "bfb573c5",
   "metadata": {},
   "outputs": [],
   "source": [
    "baseurl = \"http://localhost:5000/generate/\"\n",
    "\n",
    "downloaddir = \"downloads/\"\n",
    "os.makedirs(downloaddir, exist_ok=True)"
   ]
  },
  {
   "cell_type": "code",
   "execution_count": null,
   "id": "5adea828",
   "metadata": {},
   "outputs": [],
   "source": [
    "r = requests.get(baseurl, data=payload)"
   ]
  },
  {
   "cell_type": "code",
   "execution_count": null,
   "id": "3285f3c9",
   "metadata": {},
   "outputs": [],
   "source": [
    "filename = downloaddir + r.headers['Content-Disposition'].split(\"filename=\")[-1]"
   ]
  },
  {
   "cell_type": "code",
   "execution_count": null,
   "id": "58c5fec5",
   "metadata": {},
   "outputs": [],
   "source": [
    "if os.path.exists(filename):      # Do not clobber an existing file, for all sorts of reasons\n",
    "    print(f\"Will NOT overwrite {filename}\")\n",
    "else:\n",
    "    with open(filename, \"wb\") as outfile:\n",
    "        outfile.write(r.content)\n",
    "    print(f\"Saved file as {filename}\")"
   ]
  },
  {
   "cell_type": "code",
   "execution_count": null,
   "id": "93613d69",
   "metadata": {},
   "outputs": [],
   "source": []
  },
  {
   "cell_type": "code",
   "execution_count": null,
   "id": "97e17d85",
   "metadata": {},
   "outputs": [],
   "source": []
  },
  {
   "cell_type": "code",
   "execution_count": null,
   "id": "fc8f8016",
   "metadata": {},
   "outputs": [],
   "source": []
  },
  {
   "cell_type": "code",
   "execution_count": null,
   "id": "bbd04446",
   "metadata": {},
   "outputs": [],
   "source": []
  }
 ],
 "metadata": {
  "kernelspec": {
   "display_name": "Python 3",
   "language": "python",
   "name": "python3"
  },
  "language_info": {
   "codemirror_mode": {
    "name": "ipython",
    "version": 3
   },
   "file_extension": ".py",
   "mimetype": "text/x-python",
   "name": "python",
   "nbconvert_exporter": "python",
   "pygments_lexer": "ipython3",
   "version": "3.7.2"
  }
 },
 "nbformat": 4,
 "nbformat_minor": 5
}
